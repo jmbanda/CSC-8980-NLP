{
  "nbformat": 4,
  "nbformat_minor": 0,
  "metadata": {
    "colab": {
      "name": "NLP HW-0.ipynb",
      "provenance": [],
      "authorship_tag": "ABX9TyO2H+QhE3Mnv97wcg0xKbKl",
      "include_colab_link": true
    },
    "kernelspec": {
      "name": "python3",
      "display_name": "Python 3"
    }
  },
  "cells": [
    {
      "cell_type": "markdown",
      "metadata": {
        "id": "view-in-github",
        "colab_type": "text"
      },
      "source": [
        "<a href=\"https://colab.research.google.com/github/nikhilkoditala/CSC-8980-NLP/blob/main/NLP_HW_0.ipynb\" target=\"_parent\"><img src=\"https://colab.research.google.com/assets/colab-badge.svg\" alt=\"Open In Colab\"/></a>"
      ]
    },
    {
      "cell_type": "markdown",
      "metadata": {
        "id": "FRvpyMDHoLH7"
      },
      "source": [
        "# Name: Nikhil Koditala\n",
        "# Panther ID: 002571023"
      ]
    },
    {
      "cell_type": "code",
      "metadata": {
        "id": "Ddug94qWxyu8"
      },
      "source": [
        "import numpy as np\n",
        "import pandas as pd"
      ],
      "execution_count": 1,
      "outputs": []
    },
    {
      "cell_type": "markdown",
      "metadata": {
        "id": "VPHHqOs6oU9h"
      },
      "source": [
        "## 1. Write a function that finds the factorial of a number. Test the function finding the factorial of the number 10."
      ]
    },
    {
      "cell_type": "code",
      "metadata": {
        "id": "VLxUaOVBn89n"
      },
      "source": [
        "# recursive function\n",
        "def fact(n):\n",
        "  if(n==1 or n==0):\n",
        "    return 1\n",
        "  return n*fact(n-1)"
      ],
      "execution_count": 2,
      "outputs": []
    },
    {
      "cell_type": "code",
      "metadata": {
        "colab": {
          "base_uri": "https://localhost:8080/"
        },
        "id": "M806BpkNouOH",
        "outputId": "06f454f3-4143-40c4-d836-4107bf8eb0a6"
      },
      "source": [
        "fact(10)"
      ],
      "execution_count": 3,
      "outputs": [
        {
          "output_type": "execute_result",
          "data": {
            "text/plain": [
              "3628800"
            ]
          },
          "metadata": {
            "tags": []
          },
          "execution_count": 3
        }
      ]
    },
    {
      "cell_type": "markdown",
      "metadata": {
        "id": "mag7q0SwpB3J"
      },
      "source": [
        "## 2. Write a function that determines if a number is a prime number. Test the function with the following numbers: 3 and 1251."
      ]
    },
    {
      "cell_type": "code",
      "metadata": {
        "id": "4bs9bbDdovL4"
      },
      "source": [
        "def primecheck(n):\n",
        "  if(n <= 1):\n",
        "    print(n, ' is not a prime number')\n",
        "    return\n",
        "  i = 2\n",
        "  while(i < n):\n",
        "    if(n%i == 0):\n",
        "      print(n, ' is not a prime number')\n",
        "      return\n",
        "    i += 1\n",
        "  print(n, ' is a prime number')\n"
      ],
      "execution_count": 4,
      "outputs": []
    },
    {
      "cell_type": "code",
      "metadata": {
        "colab": {
          "base_uri": "https://localhost:8080/"
        },
        "id": "s5qkE1WjtNza",
        "outputId": "2be3ac38-ced6-4b23-e1ee-d983c37318f5"
      },
      "source": [
        "primecheck(3)\n",
        "primecheck(1251)"
      ],
      "execution_count": 5,
      "outputs": [
        {
          "output_type": "stream",
          "text": [
            "3  is a prime number\n",
            "1251  is not a prime number\n"
          ],
          "name": "stdout"
        }
      ]
    },
    {
      "cell_type": "markdown",
      "metadata": {
        "id": "vlnr31REvooU"
      },
      "source": [
        "## 3. Write a function that transposes a matrix. Test with a 3 x 3 identity matrix."
      ]
    },
    {
      "cell_type": "code",
      "metadata": {
        "id": "y5KpJG4Wt1se"
      },
      "source": [
        "def transpose(data):\n",
        "  res = [[0 for col in range(len(data))] for row in range(len(data[0]))]\n",
        "\n",
        "  for i in range(len(data)):\n",
        "    for j in range(len(data[0])):\n",
        "      res[j][i] = data[i][j]\n",
        "  return res"
      ],
      "execution_count": 6,
      "outputs": []
    },
    {
      "cell_type": "code",
      "metadata": {
        "colab": {
          "base_uri": "https://localhost:8080/"
        },
        "id": "oU0RdA2m0oP_",
        "outputId": "7954b047-6626-4523-d0ed-de08f3b923b4"
      },
      "source": [
        "data = [[1,0,0],[0,1,0],[0,0,1]]\n",
        "print(transpose(data))"
      ],
      "execution_count": 7,
      "outputs": [
        {
          "output_type": "stream",
          "text": [
            "[[1, 0, 0], [0, 1, 0], [0, 0, 1]]\n"
          ],
          "name": "stdout"
        }
      ]
    },
    {
      "cell_type": "markdown",
      "metadata": {
        "id": "Syt5IIwN27Eg"
      },
      "source": [
        "## 4. Using Pandas and Numpy, write a piece of code to combine two series into one."
      ]
    },
    {
      "cell_type": "code",
      "metadata": {
        "id": "WqT-STfwtPJN"
      },
      "source": [
        "np.random.seed(0)\n",
        "series1 = pd.Series(np.arange(10))\n",
        "series2 = pd.Series(np.arange(26))"
      ],
      "execution_count": 8,
      "outputs": []
    },
    {
      "cell_type": "code",
      "metadata": {
        "colab": {
          "base_uri": "https://localhost:8080/"
        },
        "id": "FyXMW97Nk8CK",
        "outputId": "a4b20363-9c6f-4591-8921-26728ec3b123"
      },
      "source": [
        "series1.append(series2)"
      ],
      "execution_count": 9,
      "outputs": [
        {
          "output_type": "execute_result",
          "data": {
            "text/plain": [
              "0      0\n",
              "1      1\n",
              "2      2\n",
              "3      3\n",
              "4      4\n",
              "5      5\n",
              "6      6\n",
              "7      7\n",
              "8      8\n",
              "9      9\n",
              "0      0\n",
              "1      1\n",
              "2      2\n",
              "3      3\n",
              "4      4\n",
              "5      5\n",
              "6      6\n",
              "7      7\n",
              "8      8\n",
              "9      9\n",
              "10    10\n",
              "11    11\n",
              "12    12\n",
              "13    13\n",
              "14    14\n",
              "15    15\n",
              "16    16\n",
              "17    17\n",
              "18    18\n",
              "19    19\n",
              "20    20\n",
              "21    21\n",
              "22    22\n",
              "23    23\n",
              "24    24\n",
              "25    25\n",
              "dtype: int64"
            ]
          },
          "metadata": {
            "tags": []
          },
          "execution_count": 9
        }
      ]
    },
    {
      "cell_type": "markdown",
      "metadata": {
        "id": "3lIksU8-am21"
      },
      "source": [
        "## 5. Using pandas, write a piece of code to convert the first character of each element in a series to uppercase. "
      ]
    },
    {
      "cell_type": "code",
      "metadata": {
        "id": "kWKpXqnw3E79"
      },
      "source": [
        "series = pd.Series(['nlp', 'will', 'be', 'easy?'])"
      ],
      "execution_count": 10,
      "outputs": []
    },
    {
      "cell_type": "code",
      "metadata": {
        "colab": {
          "base_uri": "https://localhost:8080/"
        },
        "id": "zPP6-9QR3E5o",
        "outputId": "5357f3c7-926e-4f3f-ce61-59dc77f62236"
      },
      "source": [
        "series.str.title()"
      ],
      "execution_count": 11,
      "outputs": [
        {
          "output_type": "execute_result",
          "data": {
            "text/plain": [
              "0      Nlp\n",
              "1     Will\n",
              "2       Be\n",
              "3    Easy?\n",
              "dtype: object"
            ]
          },
          "metadata": {
            "tags": []
          },
          "execution_count": 11
        }
      ]
    },
    {
      "cell_type": "markdown",
      "metadata": {
        "id": "KsvJyadydNBs"
      },
      "source": [
        "## Bonus: Using pandas, write a piece of code to get the frequency of unique values in the entire dataframe (not using built in functions). "
      ]
    },
    {
      "cell_type": "code",
      "metadata": {
        "id": "Ij4yGNfmtan8"
      },
      "source": [
        "df = pd.DataFrame(np.random.randint(5, 10, 20).reshape(-1, 4), columns = list('abcd'))"
      ],
      "execution_count": 12,
      "outputs": []
    },
    {
      "cell_type": "code",
      "metadata": {
        "colab": {
          "base_uri": "https://localhost:8080/"
        },
        "id": "g7Fl9KXdx3G_",
        "outputId": "7fc5bd52-3a39-425f-beae-690763820cb8"
      },
      "source": [
        "print(df)"
      ],
      "execution_count": 13,
      "outputs": [
        {
          "output_type": "stream",
          "text": [
            "   a  b  c  d\n",
            "0  9  5  8  8\n",
            "1  8  6  8  7\n",
            "2  9  5  5  9\n",
            "3  7  6  5  6\n",
            "4  6  5  6  9\n"
          ],
          "name": "stdout"
        }
      ]
    },
    {
      "cell_type": "code",
      "metadata": {
        "colab": {
          "base_uri": "https://localhost:8080/"
        },
        "id": "PUH5_RY0gQoS",
        "outputId": "0b7a0457-4032-4a0f-a98c-c28eab02046c"
      },
      "source": [
        "l = []\n",
        "for col in df.columns:\n",
        "  l.extend(df[col])\n",
        "\n",
        "print(l)"
      ],
      "execution_count": 14,
      "outputs": [
        {
          "output_type": "stream",
          "text": [
            "[9, 8, 9, 7, 6, 5, 6, 5, 6, 5, 8, 8, 5, 5, 6, 8, 7, 9, 6, 9]\n"
          ],
          "name": "stdout"
        }
      ]
    },
    {
      "cell_type": "code",
      "metadata": {
        "colab": {
          "base_uri": "https://localhost:8080/"
        },
        "id": "dfAcXkawgyAi",
        "outputId": "f9c34848-3fe9-4acb-f04a-1c768051bc92"
      },
      "source": [
        "freq = {}\n",
        "for num in l:\n",
        "  if(num in freq): freq[num] += 1\n",
        "  else: freq[num] = 1\n",
        "\n",
        "print(freq)"
      ],
      "execution_count": 15,
      "outputs": [
        {
          "output_type": "stream",
          "text": [
            "{9: 4, 8: 4, 7: 2, 6: 5, 5: 5}\n"
          ],
          "name": "stdout"
        }
      ]
    }
  ]
}