{
  "nbformat": 4,
  "nbformat_minor": 0,
  "metadata": {
    "colab": {
      "name": "NLP HW-0.ipynb",
      "provenance": [],
      "authorship_tag": "ABX9TyOquG0EuE5rArIzqJNBAJAo",
      "include_colab_link": true
    },
    "kernelspec": {
      "name": "python3",
      "display_name": "Python 3"
    }
  },
  "cells": [
    {
      "cell_type": "markdown",
      "metadata": {
        "id": "view-in-github",
        "colab_type": "text"
      },
      "source": [
        "<a href=\"https://colab.research.google.com/github/nikhilkoditala/CSC-8980-NLP/blob/main/NLP_HW_0.ipynb\" target=\"_parent\"><img src=\"https://colab.research.google.com/assets/colab-badge.svg\" alt=\"Open In Colab\"/></a>"
      ]
    },
    {
      "cell_type": "markdown",
      "metadata": {
        "id": "FRvpyMDHoLH7"
      },
      "source": [
        "# Name: Nikhil Koditala\n",
        "# Panther ID: 002571023"
      ]
    },
    {
      "cell_type": "code",
      "metadata": {
        "id": "Ddug94qWxyu8"
      },
      "source": [
        "import numpy as np\n",
        "import pandas as pd"
      ],
      "execution_count": 1,
      "outputs": []
    },
    {
      "cell_type": "markdown",
      "metadata": {
        "id": "VPHHqOs6oU9h"
      },
      "source": [
        "## 1. Write a function that finds the factorial of a number. Test the function finding the factorial of the number 10."
      ]
    },
    {
      "cell_type": "code",
      "metadata": {
        "id": "VLxUaOVBn89n"
      },
      "source": [
        "# recursive function\n",
        "def fact(n):\n",
        "  if(n==1 or n==0):\n",
        "    return 1\n",
        "  return n*fact(n-1)"
      ],
      "execution_count": 2,
      "outputs": []
    },
    {
      "cell_type": "code",
      "metadata": {
        "colab": {
          "base_uri": "https://localhost:8080/"
        },
        "id": "M806BpkNouOH",
        "outputId": "1516a911-254c-43e8-e405-e458581e30e5"
      },
      "source": [
        "fact(10)"
      ],
      "execution_count": 3,
      "outputs": [
        {
          "output_type": "execute_result",
          "data": {
            "text/plain": [
              "3628800"
            ]
          },
          "metadata": {
            "tags": []
          },
          "execution_count": 3
        }
      ]
    },
    {
      "cell_type": "markdown",
      "metadata": {
        "id": "mag7q0SwpB3J"
      },
      "source": [
        "## 2. Write a function that determines if a number is a prime number. Test the function with the following numbers: 3 and 1251."
      ]
    },
    {
      "cell_type": "code",
      "metadata": {
        "id": "4bs9bbDdovL4"
      },
      "source": [
        "def primecheck(n):\n",
        "  if(n <= 1):\n",
        "    print(n, ' is not a prime number')\n",
        "    return\n",
        "  i = 2\n",
        "  while(i < n):\n",
        "    if(n%i == 0):\n",
        "      print(n, ' is not a prime number')\n",
        "      return\n",
        "    i += 1\n",
        "  print(n, ' is a prime number')\n"
      ],
      "execution_count": 4,
      "outputs": []
    },
    {
      "cell_type": "code",
      "metadata": {
        "colab": {
          "base_uri": "https://localhost:8080/"
        },
        "id": "s5qkE1WjtNza",
        "outputId": "f8e51831-a22e-432b-e59d-2de7e6fef2ac"
      },
      "source": [
        "primecheck(3)\n",
        "primecheck(1251)"
      ],
      "execution_count": 5,
      "outputs": [
        {
          "output_type": "stream",
          "text": [
            "3  is a prime number\n",
            "1251  is not a prime number\n"
          ],
          "name": "stdout"
        }
      ]
    },
    {
      "cell_type": "markdown",
      "metadata": {
        "id": "vlnr31REvooU"
      },
      "source": [
        "## 3. Write a function that transposes a matrix. Test with a 3 x 3 identity matrix."
      ]
    },
    {
      "cell_type": "code",
      "metadata": {
        "id": "y5KpJG4Wt1se"
      },
      "source": [
        "def transpose(data):\n",
        "  rows = 0\n",
        "  coms = 0\n",
        "  for i in data:\n",
        "    rows += 1\n",
        "  for j in data[0]:\n",
        "    coms += 1\n",
        "\n",
        "  res = [[0 for col in range(rows)] for row in range(coms)]\n",
        "\n",
        "  for i in range(rows):\n",
        "    for j in range(coms):\n",
        "      res[j][i] = data[i][j]\n",
        "  \n",
        "  return res"
      ],
      "execution_count": 13,
      "outputs": []
    },
    {
      "cell_type": "code",
      "metadata": {
        "colab": {
          "base_uri": "https://localhost:8080/"
        },
        "id": "oU0RdA2m0oP_",
        "outputId": "0d327a46-476d-4ac4-96ac-016af4870945"
      },
      "source": [
        "data = [[1,0,0],[0,1,0],[0,0,1]]\n",
        "print(transpose(data))"
      ],
      "execution_count": 14,
      "outputs": [
        {
          "output_type": "stream",
          "text": [
            "[[1, 0, 0], [0, 1, 0], [0, 0, 1]]\n"
          ],
          "name": "stdout"
        }
      ]
    },
    {
      "cell_type": "markdown",
      "metadata": {
        "id": "Syt5IIwN27Eg"
      },
      "source": [
        "## 4. Using Pandas and Numpy, write a piece of code to combine two series into one."
      ]
    },
    {
      "cell_type": "code",
      "metadata": {
        "id": "eEyPK1Rhlmv7"
      },
      "source": [
        "def combine_series(series1,series2): \n",
        "  len_series1 = 0\n",
        "  len_series2 = 0\n",
        "\n",
        "  for i in series1:\n",
        "    len_series1 += 1\n",
        "\n",
        "  for i in series2:\n",
        "    len_series2 += 1\n",
        "  if(len_series1 > len_series2): \n",
        "    for i in series2:\n",
        "      series1[i] = series1[i] + series2[i]\n",
        "    return series1\n",
        "  else:\n",
        "    for i in series1:\n",
        "      series2[i] = series1[i] + series2[i]\n",
        "    return series2\n"
      ],
      "execution_count": 15,
      "outputs": []
    },
    {
      "cell_type": "code",
      "metadata": {
        "colab": {
          "base_uri": "https://localhost:8080/"
        },
        "id": "wI0NcIZtt9t-",
        "outputId": "b1b52e14-3063-4c75-e538-25ff392a5469"
      },
      "source": [
        "np.random.seed(0)\n",
        "series1 = pd.Series(np.arange(10))\n",
        "series2 = pd.Series(np.arange(26))\n",
        "\n",
        "print('Combined Series: \\n',combine_series(series1, series2))"
      ],
      "execution_count": 17,
      "outputs": [
        {
          "output_type": "stream",
          "text": [
            "Combined Series: \n",
            " 0      0\n",
            "1      2\n",
            "2      4\n",
            "3      6\n",
            "4      8\n",
            "5     10\n",
            "6     12\n",
            "7     14\n",
            "8     16\n",
            "9     18\n",
            "10    10\n",
            "11    11\n",
            "12    12\n",
            "13    13\n",
            "14    14\n",
            "15    15\n",
            "16    16\n",
            "17    17\n",
            "18    18\n",
            "19    19\n",
            "20    20\n",
            "21    21\n",
            "22    22\n",
            "23    23\n",
            "24    24\n",
            "25    25\n",
            "dtype: int64\n"
          ],
          "name": "stdout"
        }
      ]
    },
    {
      "cell_type": "markdown",
      "metadata": {
        "id": "3lIksU8-am21"
      },
      "source": [
        "## 5. Using pandas, write a piece of code to convert the first character of each element in a series to uppercase. "
      ]
    },
    {
      "cell_type": "code",
      "metadata": {
        "id": "WHWrkYTkQVCk"
      },
      "source": [
        "alphabets = 'abcdefghijklmnopqrstuvwxyzABCDEFGHIJKLMNOPQRSTUVWXYZ'"
      ],
      "execution_count": 18,
      "outputs": []
    },
    {
      "cell_type": "code",
      "metadata": {
        "id": "tkgVCkcqW8TJ"
      },
      "source": [
        "def capitalize_first_char(word):\n",
        "  char = word[0]\n",
        "  for i in range(len(alphabets)):\n",
        "    if(alphabets[i] == char): break\n",
        "\n",
        "  if(i < 26): return alphabets[i+26] + word[1:]\n",
        "  return word"
      ],
      "execution_count": 19,
      "outputs": []
    },
    {
      "cell_type": "code",
      "metadata": {
        "id": "0oFssNr2XzzR"
      },
      "source": [
        "def uppercase_series(series):\n",
        "  series_len = 0\n",
        "  for i in series:\n",
        "    series_len += 1\n",
        "\n",
        "  for i in range(series_len):\n",
        "    series[i] = capitalize_first_char(series[i])\n",
        "\n",
        "  return series"
      ],
      "execution_count": 21,
      "outputs": []
    },
    {
      "cell_type": "code",
      "metadata": {
        "id": "jYyPIpSwQTRG"
      },
      "source": [
        "series = pd.Series(['nlp', 'will', 'be', 'easy?'])"
      ],
      "execution_count": 22,
      "outputs": []
    },
    {
      "cell_type": "code",
      "metadata": {
        "colab": {
          "base_uri": "https://localhost:8080/"
        },
        "id": "yBV7xRhgYLSP",
        "outputId": "befe5f2d-5229-4aa6-c3fa-9d620f52ece4"
      },
      "source": [
        "uppercase_series(series)"
      ],
      "execution_count": 23,
      "outputs": [
        {
          "output_type": "execute_result",
          "data": {
            "text/plain": [
              "0      Nlp\n",
              "1     Will\n",
              "2       Be\n",
              "3    Easy?\n",
              "dtype: object"
            ]
          },
          "metadata": {
            "tags": []
          },
          "execution_count": 23
        }
      ]
    },
    {
      "cell_type": "markdown",
      "metadata": {
        "id": "KsvJyadydNBs"
      },
      "source": [
        "## Bonus: Using pandas, write a piece of code to get the frequency of unique values in the entire dataframe (not using built in functions). "
      ]
    },
    {
      "cell_type": "code",
      "metadata": {
        "id": "Ij4yGNfmtan8"
      },
      "source": [
        "df = pd.DataFrame(np.random.randint(5, 10, 20).reshape(-1, 4), columns = list('abcd'))"
      ],
      "execution_count": 24,
      "outputs": []
    },
    {
      "cell_type": "code",
      "metadata": {
        "colab": {
          "base_uri": "https://localhost:8080/"
        },
        "id": "g7Fl9KXdx3G_",
        "outputId": "95decfd6-02d5-4fc2-e0d8-c3f9a53bce91"
      },
      "source": [
        "print(df)"
      ],
      "execution_count": 25,
      "outputs": [
        {
          "output_type": "stream",
          "text": [
            "   a  b  c  d\n",
            "0  9  5  8  8\n",
            "1  8  6  8  7\n",
            "2  9  5  5  9\n",
            "3  7  6  5  6\n",
            "4  6  5  6  9\n"
          ],
          "name": "stdout"
        }
      ]
    },
    {
      "cell_type": "code",
      "metadata": {
        "id": "fowcPBkBUEcQ"
      },
      "source": [
        "freq = {}\n",
        "for col in df:\n",
        "  for num in df[col]:\n",
        "    if(num in freq): freq[num] += 1\n",
        "    else: freq[num] = 1"
      ],
      "execution_count": 26,
      "outputs": []
    },
    {
      "cell_type": "code",
      "metadata": {
        "colab": {
          "base_uri": "https://localhost:8080/"
        },
        "id": "cnnMiSMdUatX",
        "outputId": "fb9440a6-5033-4795-d94b-5769926ef5d7"
      },
      "source": [
        "freq"
      ],
      "execution_count": 27,
      "outputs": [
        {
          "output_type": "execute_result",
          "data": {
            "text/plain": [
              "{5: 5, 6: 5, 7: 2, 8: 4, 9: 4}"
            ]
          },
          "metadata": {
            "tags": []
          },
          "execution_count": 27
        }
      ]
    }
  ]
}